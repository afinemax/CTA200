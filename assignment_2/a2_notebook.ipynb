{
 "cells": [
  {
   "cell_type": "code",
   "execution_count": 74,
   "metadata": {},
   "outputs": [
    {
     "name": "stderr",
     "output_type": "stream",
     "text": [
      "C:\\Users\\afine\\anaconda3\\lib\\site-packages\\ipykernel_launcher.py:17: RuntimeWarning: overflow encountered in square\n",
      "C:\\Users\\afine\\anaconda3\\lib\\site-packages\\ipykernel_launcher.py:17: RuntimeWarning: invalid value encountered in square\n",
      "C:\\Users\\afine\\anaconda3\\lib\\site-packages\\ipykernel_launcher.py:24: RuntimeWarning: invalid value encountered in less\n"
     ]
    },
    {
     "data": {
      "image/png": "[encoded data removed]",
      "text/plain": [
       "<Figure size 864x576 with 1 Axes>"
      ]
     },
     "metadata": {
      "needs_background": "light"
     },
     "output_type": "display_data"
    }
   ],
   "source": [
    "#a2q1\n",
    "import numpy as np\n",
    "import matplotlib.pyplot as plt\n",
    "\n",
    "def mandelbrot(n_max, epsilon, n):\n",
    "    \n",
    "    #grid in the complex plane\n",
    "    x = np.linspace(-2,2, n)\n",
    "    y = np.linspace(-2j,2j, n)\n",
    "    \n",
    "    c = x[:,np.newaxis] + y[np.newaxis,:]\n",
    "\n",
    "    #iteration\n",
    "    z0 = 0.0\n",
    "    z = c\n",
    "    for j in range(n_max):\n",
    "        \n",
    "        z = z**2 + c\n",
    "        \n",
    "        #if np.abs(z) < epsilon:\n",
    "        #    diverge = np.zeros[n]\n",
    "        #    diverge.np.append[j]\n",
    "    \n",
    "    #check for convergance\n",
    "    myset = (np.abs(z)) < epsilon\n",
    "    return myset\n",
    "\n",
    "myset = mandelbrot(50, 50.0, 1000,)\n",
    "\n",
    "plt.imshow(myset.T, extent=[-2, 2, -2, 2], cmap= 'binary',)\n",
    "plt.title('The Mandelbrot set')\n",
    "plt.xlabel('Real[Z]')\n",
    "plt.ylabel('Imaginary[Z]')\n",
    "plt.show()"
   ]
  },
  {
   "cell_type": "code",
   "execution_count": null,
   "metadata": {},
   "outputs": [],
   "source": [
    "#a2 q2 ode raw\n",
    "\n",
    "import numpy as np\n",
    "from scipy.integrate import odeint\n",
    "import matplotlib.pyplot as plt\n",
    "\n",
    "\n",
    "#SIR model\n",
    "#S(t) = not yet infected\n",
    "#I(t) = infected\n",
    "#R(t) = recoverd/ inmune\n",
    "\n",
    "def model(z,t,b,y,u):\n",
    "    '''function that returns dx/dt'''\n",
    "    s,i,r,l = z\n",
    "    n = 1000.0\n",
    "    dsdt = -1.0 * b * s * i / n\n",
    "    didt = b * s * i /n - y * i -u*i\n",
    "    drdt = y * i\n",
    "    dldt = u*i\n",
    "    dzdt = [dsdt,didt,drdt,dldt]\n",
    "    return dzdt\n",
    "\n",
    "# initial condition\n",
    "z0 = [999,1,0,0]\n",
    "\n",
    "# time points\n",
    "t = np.linspace(0,1000)\n",
    "\n",
    "# solve ODEs\n",
    "b = 0.7\n",
    "y = 0.02\n",
    "u = 0.02\n",
    "z = odeint(model, z0, t, args=(b,y,u))\n",
    "\n",
    "# plot results\n",
    "plt.plot(t,z[:,0],label='Non-Infected')\n",
    "plt.plot(t,z[:,1],label='Infected')\n",
    "plt.plot(t,z[:,2],label='Recoverd')\n",
    "plt.plot(t,z[:,3],label='Dead')\n",
    "\n",
    "plt.xlabel('Time')\n",
    "plt.ylabel('Population')\n",
    "plt.title('SIRD Model 2')\n",
    "plt.legend()\n",
    "plt.show()"
   ]
  }
 ],
 "metadata": {
  "kernelspec": {
   "display_name": "Python 3",
   "language": "python",
   "name": "python3"
  },
  "language_info": {
   "codemirror_mode": {
    "name": "ipython",
    "version": 3
   },
   "file_extension": ".py",
   "mimetype": "text/x-python",
   "name": "python",
   "nbconvert_exporter": "python",
   "pygments_lexer": "ipython3",
   "version": "3.7.6"
  }
 },
 "nbformat": 4,
 "nbformat_minor": 4
}
